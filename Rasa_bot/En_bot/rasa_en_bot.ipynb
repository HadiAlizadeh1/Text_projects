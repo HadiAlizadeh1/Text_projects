{
  "nbformat": 4,
  "nbformat_minor": 0,
  "metadata": {
    "colab": {
      "provenance": [],
      "include_colab_link": true
    },
    "kernelspec": {
      "name": "python3",
      "display_name": "Python 3"
    },
    "language_info": {
      "name": "python"
    }
  },
  "cells": [
    {
      "cell_type": "markdown",
      "metadata": {
        "id": "view-in-github",
        "colab_type": "text"
      },
      "source": [
        "<a href=\"https://colab.research.google.com/github/HadiAlizadeh1/mci-chatbot/blob/main/rasa_en_bot.ipynb\" target=\"_parent\"><img src=\"https://colab.research.google.com/assets/colab-badge.svg\" alt=\"Open In Colab\"/></a>"
      ]
    },
    {
      "cell_type": "markdown",
      "source": [
        "# In the name of Allah\n",
        "###Task_006"
      ],
      "metadata": {
        "id": "wwVXH0BifSeO"
      }
    },
    {
      "cell_type": "markdown",
      "source": [
        "#**In this task we are going to create a simple rasa English chat bot**"
      ],
      "metadata": {
        "id": "D4hLcLFPMy3D"
      }
    },
    {
      "cell_type": "code",
      "source": [
        "!pip install rasa==1.10.3 #instaling rasa"
      ],
      "metadata": {
        "colab": {
          "base_uri": "https://localhost:8080/"
        },
        "id": "NZr9SPIsfYqz",
        "outputId": "39793bea-34be-404e-94b9-9867e6dce713"
      },
      "execution_count": null,
      "outputs": [
        {
          "output_type": "stream",
          "name": "stdout",
          "text": [
            "Looking in indexes: https://pypi.org/simple, https://us-python.pkg.dev/colab-wheels/public/simple/\n",
            "Requirement already satisfied: rasa==1.10.3 in /usr/local/lib/python3.7/dist-packages (1.10.3)\n",
            "Requirement already satisfied: questionary<1.6.0,>=1.5.1 in /usr/local/lib/python3.7/dist-packages (from rasa==1.10.3) (1.5.2)\n",
            "Requirement already satisfied: SQLAlchemy<1.4.0,>=1.3.3 in /usr/local/lib/python3.7/dist-packages (from rasa==1.10.3) (1.3.24)\n",
            "Requirement already satisfied: ruamel.yaml<0.17,>=0.16 in /usr/local/lib/python3.7/dist-packages (from rasa==1.10.3) (0.16.13)\n",
            "Requirement already satisfied: psycopg2-binary<2.9.0,>=2.8.2 in /usr/local/lib/python3.7/dist-packages (from rasa==1.10.3) (2.8.6)\n",
            "Requirement already satisfied: tensorflow-probability<0.10,>=0.7 in /usr/local/lib/python3.7/dist-packages (from rasa==1.10.3) (0.9.0)\n",
            "Requirement already satisfied: python-telegram-bot<13.0,>=11.1 in /usr/local/lib/python3.7/dist-packages (from rasa==1.10.3) (12.8)\n",
            "Requirement already satisfied: jsonpickle<1.5,>=1.3 in /usr/local/lib/python3.7/dist-packages (from rasa==1.10.3) (1.4.2)\n",
            "Requirement already satisfied: sanic-jwt<1.5.0,>=1.3.2 in /usr/local/lib/python3.7/dist-packages (from rasa==1.10.3) (1.4.1)\n",
            "Requirement already satisfied: twilio<6.27,>=6.26 in /usr/local/lib/python3.7/dist-packages (from rasa==1.10.3) (6.26.3)\n",
            "Requirement already satisfied: kafka-python<2.0,>=1.4 in /usr/local/lib/python3.7/dist-packages (from rasa==1.10.3) (1.4.7)\n",
            "Requirement already satisfied: tensorflow_hub<0.9,>=0.7 in /usr/local/lib/python3.7/dist-packages (from rasa==1.10.3) (0.8.0)\n",
            "Requirement already satisfied: pymongo[srv,tls]<3.9.0,>=3.8.0 in /usr/local/lib/python3.7/dist-packages (from rasa==1.10.3) (3.8.0)\n",
            "Requirement already satisfied: attrs<19.4,>=19.3 in /usr/local/lib/python3.7/dist-packages (from rasa==1.10.3) (19.3.0)\n",
            "Requirement already satisfied: apscheduler<3.7,>=3.6 in /usr/local/lib/python3.7/dist-packages (from rasa==1.10.3) (3.6.3)\n",
            "Requirement already satisfied: PyJWT<1.8,>=1.7 in /usr/local/lib/python3.7/dist-packages (from rasa==1.10.3) (1.7.1)\n",
            "Requirement already satisfied: boto3<2.0,>=1.12 in /usr/local/lib/python3.7/dist-packages (from rasa==1.10.3) (1.26.6)\n",
            "Requirement already satisfied: matplotlib<3.3,>=3.1 in /usr/local/lib/python3.7/dist-packages (from rasa==1.10.3) (3.2.2)\n",
            "Requirement already satisfied: numpy<2.0,>=1.16 in /usr/local/lib/python3.7/dist-packages (from rasa==1.10.3) (1.18.5)\n",
            "Requirement already satisfied: pika<1.2.0,>=1.1.0 in /usr/local/lib/python3.7/dist-packages (from rasa==1.10.3) (1.1.0)\n",
            "Requirement already satisfied: redis<4.0,>=3.4 in /usr/local/lib/python3.7/dist-packages (from rasa==1.10.3) (3.5.3)\n",
            "Requirement already satisfied: tensorflow-addons<0.8.0,>=0.7.1 in /usr/local/lib/python3.7/dist-packages (from rasa==1.10.3) (0.7.1)\n",
            "Requirement already satisfied: tensorflow-estimator==2.1.0 in /usr/local/lib/python3.7/dist-packages (from rasa==1.10.3) (2.1.0)\n",
            "Requirement already satisfied: coloredlogs<11.0,>=10.0 in /usr/local/lib/python3.7/dist-packages (from rasa==1.10.3) (10.0)\n",
            "Requirement already satisfied: sanic-cors<0.11.0,>=0.10.0b1 in /usr/local/lib/python3.7/dist-packages (from rasa==1.10.3) (0.10.0.post3)\n",
            "Requirement already satisfied: mattermostwrapper<2.3,>=2.2 in /usr/local/lib/python3.7/dist-packages (from rasa==1.10.3) (2.2)\n",
            "Requirement already satisfied: async_generator<1.11,>=1.10 in /usr/local/lib/python3.7/dist-packages (from rasa==1.10.3) (1.10)\n",
            "Requirement already satisfied: pykwalify<1.8.0,>=1.7.0 in /usr/local/lib/python3.7/dist-packages (from rasa==1.10.3) (1.7.0)\n",
            "Requirement already satisfied: fbmessenger<6.1.0,>=6.0.0 in /usr/local/lib/python3.7/dist-packages (from rasa==1.10.3) (6.0.0)\n",
            "Requirement already satisfied: python-dateutil<2.9,>=2.8 in /usr/local/lib/python3.7/dist-packages (from rasa==1.10.3) (2.8.2)\n",
            "Requirement already satisfied: aiohttp<3.7,>=3.6 in /usr/local/lib/python3.7/dist-packages (from rasa==1.10.3) (3.6.3)\n",
            "Requirement already satisfied: sanic<20.0.0,>=19.12.2 in /usr/local/lib/python3.7/dist-packages (from rasa==1.10.3) (19.12.2)\n",
            "Requirement already satisfied: scikit-learn<0.23,>=0.22 in /usr/local/lib/python3.7/dist-packages (from rasa==1.10.3) (0.22.2.post1)\n",
            "Requirement already satisfied: slackclient<3.0.0,>=2.0.0 in /usr/local/lib/python3.7/dist-packages (from rasa==1.10.3) (2.9.4)\n",
            "Requirement already satisfied: gevent<1.6,>=1.4 in /usr/local/lib/python3.7/dist-packages (from rasa==1.10.3) (1.5.0)\n",
            "Requirement already satisfied: ujson<3.0,>=1.35 in /usr/local/lib/python3.7/dist-packages (from rasa==1.10.3) (2.0.3)\n",
            "Requirement already satisfied: networkx<2.5.0,>=2.4.0 in /usr/local/lib/python3.7/dist-packages (from rasa==1.10.3) (2.4)\n",
            "Requirement already satisfied: webexteamssdk<1.4.0,>=1.1.1 in /usr/local/lib/python3.7/dist-packages (from rasa==1.10.3) (1.3)\n",
            "Requirement already satisfied: oauth2client==4.1.3 in /usr/local/lib/python3.7/dist-packages (from rasa==1.10.3) (4.1.3)\n",
            "Requirement already satisfied: colorclass<2.3,>=2.2 in /usr/local/lib/python3.7/dist-packages (from rasa==1.10.3) (2.2.2)\n",
            "Requirement already satisfied: jsonschema<3.3,>=3.2 in /usr/local/lib/python3.7/dist-packages (from rasa==1.10.3) (3.2.0)\n",
            "Requirement already satisfied: colorhash<1.1.0,>=1.0.2 in /usr/local/lib/python3.7/dist-packages (from rasa==1.10.3) (1.0.4)\n",
            "Requirement already satisfied: pytz<2020.0,>=2019.1 in /usr/local/lib/python3.7/dist-packages (from rasa==1.10.3) (2019.3)\n",
            "Requirement already satisfied: rocketchat_API<1.4.0,>=0.6.31 in /usr/local/lib/python3.7/dist-packages (from rasa==1.10.3) (1.3.1)\n",
            "Requirement already satisfied: absl-py<0.10,>=0.9 in /usr/local/lib/python3.7/dist-packages (from rasa==1.10.3) (0.9.0)\n",
            "Requirement already satisfied: requests<3.0,>=2.23 in /usr/local/lib/python3.7/dist-packages (from rasa==1.10.3) (2.23.0)\n",
            "Requirement already satisfied: tensorflow<2.2,>=2.1 in /usr/local/lib/python3.7/dist-packages (from rasa==1.10.3) (2.1.4)\n",
            "Requirement already satisfied: scipy<2.0.0,>=1.4.1 in /usr/local/lib/python3.7/dist-packages (from rasa==1.10.3) (1.7.3)\n",
            "Requirement already satisfied: prompt-toolkit<3.0,>=2.0 in /usr/local/lib/python3.7/dist-packages (from rasa==1.10.3) (2.0.10)\n",
            "Requirement already satisfied: sklearn-crfsuite<0.4,>=0.3 in /usr/local/lib/python3.7/dist-packages (from rasa==1.10.3) (0.3.6)\n",
            "Requirement already satisfied: python-engineio<3.13,>=3.11 in /usr/local/lib/python3.7/dist-packages (from rasa==1.10.3) (3.12.1)\n",
            "Requirement already satisfied: terminaltables<3.2.0,>=3.1.0 in /usr/local/lib/python3.7/dist-packages (from rasa==1.10.3) (3.1.10)\n",
            "Requirement already satisfied: setuptools>=41.0.0 in /usr/local/lib/python3.7/dist-packages (from rasa==1.10.3) (57.4.0)\n",
            "Requirement already satisfied: pydot<1.5,>=1.4 in /usr/local/lib/python3.7/dist-packages (from rasa==1.10.3) (1.4.2)\n",
            "Requirement already satisfied: packaging<21.0,>=20.0 in /usr/local/lib/python3.7/dist-packages (from rasa==1.10.3) (20.9)\n",
            "Requirement already satisfied: python-socketio<4.6,>=4.4 in /usr/local/lib/python3.7/dist-packages (from rasa==1.10.3) (4.5.1)\n",
            "Requirement already satisfied: tqdm<4.46,>=4.31 in /usr/local/lib/python3.7/dist-packages (from rasa==1.10.3) (4.45.0)\n",
            "Requirement already satisfied: cloudpickle<1.4,>=1.2 in /usr/local/lib/python3.7/dist-packages (from rasa==1.10.3) (1.3.0)\n",
            "Requirement already satisfied: rasa-sdk<2.0.0,>=1.10.0 in /usr/local/lib/python3.7/dist-packages (from rasa==1.10.3) (1.10.3)\n",
            "Requirement already satisfied: multidict<5.0,>=4.6 in /usr/local/lib/python3.7/dist-packages (from rasa==1.10.3) (4.7.6)\n",
            "Requirement already satisfied: pyasn1-modules>=0.0.5 in /usr/local/lib/python3.7/dist-packages (from oauth2client==4.1.3->rasa==1.10.3) (0.2.8)\n",
            "Requirement already satisfied: pyasn1>=0.1.7 in /usr/local/lib/python3.7/dist-packages (from oauth2client==4.1.3->rasa==1.10.3) (0.4.8)\n",
            "Requirement already satisfied: httplib2>=0.9.1 in /usr/local/lib/python3.7/dist-packages (from oauth2client==4.1.3->rasa==1.10.3) (0.17.4)\n",
            "Requirement already satisfied: six>=1.6.1 in /usr/local/lib/python3.7/dist-packages (from oauth2client==4.1.3->rasa==1.10.3) (1.15.0)\n",
            "Requirement already satisfied: rsa>=3.1.4 in /usr/local/lib/python3.7/dist-packages (from oauth2client==4.1.3->rasa==1.10.3) (4.9)\n",
            "Requirement already satisfied: async-timeout<4.0,>=3.0 in /usr/local/lib/python3.7/dist-packages (from aiohttp<3.7,>=3.6->rasa==1.10.3) (3.0.1)\n",
            "Requirement already satisfied: chardet<4.0,>=2.0 in /usr/local/lib/python3.7/dist-packages (from aiohttp<3.7,>=3.6->rasa==1.10.3) (3.0.4)\n",
            "Requirement already satisfied: yarl<1.6.0,>=1.0 in /usr/local/lib/python3.7/dist-packages (from aiohttp<3.7,>=3.6->rasa==1.10.3) (1.5.1)\n",
            "Requirement already satisfied: tzlocal>=1.2 in /usr/local/lib/python3.7/dist-packages (from apscheduler<3.7,>=3.6->rasa==1.10.3) (4.2)\n",
            "Requirement already satisfied: s3transfer<0.7.0,>=0.6.0 in /usr/local/lib/python3.7/dist-packages (from boto3<2.0,>=1.12->rasa==1.10.3) (0.6.0)\n",
            "Requirement already satisfied: botocore<1.30.0,>=1.29.6 in /usr/local/lib/python3.7/dist-packages (from boto3<2.0,>=1.12->rasa==1.10.3) (1.29.6)\n",
            "Requirement already satisfied: jmespath<2.0.0,>=0.7.1 in /usr/local/lib/python3.7/dist-packages (from boto3<2.0,>=1.12->rasa==1.10.3) (1.0.1)\n",
            "Requirement already satisfied: urllib3<1.27,>=1.25.4 in /usr/local/lib/python3.7/dist-packages (from botocore<1.30.0,>=1.29.6->boto3<2.0,>=1.12->rasa==1.10.3) (1.25.11)\n",
            "Requirement already satisfied: humanfriendly>=4.7 in /usr/local/lib/python3.7/dist-packages (from coloredlogs<11.0,>=10.0->rasa==1.10.3) (10.0)\n",
            "Requirement already satisfied: greenlet>=0.4.14 in /usr/local/lib/python3.7/dist-packages (from gevent<1.6,>=1.4->rasa==1.10.3) (2.0.1)\n",
            "Requirement already satisfied: importlib-metadata in /usr/local/lib/python3.7/dist-packages (from jsonpickle<1.5,>=1.3->rasa==1.10.3) (4.13.0)\n",
            "Requirement already satisfied: pyrsistent>=0.14.0 in /usr/local/lib/python3.7/dist-packages (from jsonschema<3.3,>=3.2->rasa==1.10.3) (0.19.2)\n",
            "Requirement already satisfied: kiwisolver>=1.0.1 in /usr/local/lib/python3.7/dist-packages (from matplotlib<3.3,>=3.1->rasa==1.10.3) (1.4.4)\n",
            "Requirement already satisfied: cycler>=0.10 in /usr/local/lib/python3.7/dist-packages (from matplotlib<3.3,>=3.1->rasa==1.10.3) (0.11.0)\n",
            "Requirement already satisfied: pyparsing!=2.0.4,!=2.1.2,!=2.1.6,>=2.0.1 in /usr/local/lib/python3.7/dist-packages (from matplotlib<3.3,>=3.1->rasa==1.10.3) (3.0.9)\n",
            "Requirement already satisfied: typing-extensions in /usr/local/lib/python3.7/dist-packages (from kiwisolver>=1.0.1->matplotlib<3.3,>=3.1->rasa==1.10.3) (4.1.1)\n",
            "Requirement already satisfied: decorator>=4.3.0 in /usr/local/lib/python3.7/dist-packages (from networkx<2.5.0,>=2.4.0->rasa==1.10.3) (4.4.2)\n",
            "Requirement already satisfied: wcwidth in /usr/local/lib/python3.7/dist-packages (from prompt-toolkit<3.0,>=2.0->rasa==1.10.3) (0.2.5)\n",
            "Requirement already satisfied: PyYAML>=3.11 in /usr/local/lib/python3.7/dist-packages (from pykwalify<1.8.0,>=1.7.0->rasa==1.10.3) (6.0)\n",
            "Requirement already satisfied: docopt>=0.6.2 in /usr/local/lib/python3.7/dist-packages (from pykwalify<1.8.0,>=1.7.0->rasa==1.10.3) (0.6.2)\n",
            "Requirement already satisfied: dnspython<2.0.0,>=1.13.0 in /usr/local/lib/python3.7/dist-packages (from pymongo[srv,tls]<3.9.0,>=3.8.0->rasa==1.10.3) (1.16.0)\n",
            "Requirement already satisfied: tornado>=5.1 in /usr/local/lib/python3.7/dist-packages (from python-telegram-bot<13.0,>=11.1->rasa==1.10.3) (6.0.4)\n",
            "Requirement already satisfied: certifi in /usr/local/lib/python3.7/dist-packages (from python-telegram-bot<13.0,>=11.1->rasa==1.10.3) (2022.9.24)\n",
            "Requirement already satisfied: cryptography in /usr/local/lib/python3.7/dist-packages (from python-telegram-bot<13.0,>=11.1->rasa==1.10.3) (38.0.3)\n",
            "Requirement already satisfied: idna<3,>=2.5 in /usr/local/lib/python3.7/dist-packages (from requests<3.0,>=2.23->rasa==1.10.3) (2.10)\n",
            "Requirement already satisfied: ruamel.yaml.clib>=0.1.2 in /usr/local/lib/python3.7/dist-packages (from ruamel.yaml<0.17,>=0.16->rasa==1.10.3) (0.2.7)\n",
            "Requirement already satisfied: httptools>=0.0.10 in /usr/local/lib/python3.7/dist-packages (from sanic<20.0.0,>=19.12.2->rasa==1.10.3) (0.5.0)\n",
            "Requirement already satisfied: websockets<9.0,>=7.0 in /usr/local/lib/python3.7/dist-packages (from sanic<20.0.0,>=19.12.2->rasa==1.10.3) (8.1)\n",
            "Requirement already satisfied: uvloop>=0.5.3 in /usr/local/lib/python3.7/dist-packages (from sanic<20.0.0,>=19.12.2->rasa==1.10.3) (0.17.0)\n",
            "Requirement already satisfied: httpx==0.9.3 in /usr/local/lib/python3.7/dist-packages (from sanic<20.0.0,>=19.12.2->rasa==1.10.3) (0.9.3)\n",
            "Requirement already satisfied: aiofiles>=0.3.0 in /usr/local/lib/python3.7/dist-packages (from sanic<20.0.0,>=19.12.2->rasa==1.10.3) (22.1.0)\n",
            "Requirement already satisfied: h11==0.8.* in /usr/local/lib/python3.7/dist-packages (from httpx==0.9.3->sanic<20.0.0,>=19.12.2->rasa==1.10.3) (0.8.1)\n",
            "Requirement already satisfied: rfc3986<2,>=1.3 in /usr/local/lib/python3.7/dist-packages (from httpx==0.9.3->sanic<20.0.0,>=19.12.2->rasa==1.10.3) (1.5.0)\n",
            "Requirement already satisfied: sniffio==1.* in /usr/local/lib/python3.7/dist-packages (from httpx==0.9.3->sanic<20.0.0,>=19.12.2->rasa==1.10.3) (1.3.0)\n",
            "Requirement already satisfied: h2==3.* in /usr/local/lib/python3.7/dist-packages (from httpx==0.9.3->sanic<20.0.0,>=19.12.2->rasa==1.10.3) (3.2.0)\n",
            "Requirement already satisfied: hstspreload in /usr/local/lib/python3.7/dist-packages (from httpx==0.9.3->sanic<20.0.0,>=19.12.2->rasa==1.10.3) (2022.11.1)\n",
            "Requirement already satisfied: hpack<4,>=3.0 in /usr/local/lib/python3.7/dist-packages (from h2==3.*->httpx==0.9.3->sanic<20.0.0,>=19.12.2->rasa==1.10.3) (3.0.0)\n",
            "Requirement already satisfied: hyperframe<6,>=5.2.0 in /usr/local/lib/python3.7/dist-packages (from h2==3.*->httpx==0.9.3->sanic<20.0.0,>=19.12.2->rasa==1.10.3) (5.2.0)\n",
            "Requirement already satisfied: sanic-plugins-framework>=0.9.0 in /usr/local/lib/python3.7/dist-packages (from sanic-cors<0.11.0,>=0.10.0b1->rasa==1.10.3) (0.9.5)\n",
            "Requirement already satisfied: joblib>=0.11 in /usr/local/lib/python3.7/dist-packages (from scikit-learn<0.23,>=0.22->rasa==1.10.3) (1.2.0)\n",
            "Requirement already satisfied: python-crfsuite>=0.8.3 in /usr/local/lib/python3.7/dist-packages (from sklearn-crfsuite<0.4,>=0.3->rasa==1.10.3) (0.9.8)\n",
            "Requirement already satisfied: tabulate in /usr/local/lib/python3.7/dist-packages (from sklearn-crfsuite<0.4,>=0.3->rasa==1.10.3) (0.8.10)\n",
            "Requirement already satisfied: wrapt>=1.11.1 in /usr/local/lib/python3.7/dist-packages (from tensorflow<2.2,>=2.1->rasa==1.10.3) (1.14.1)\n",
            "Requirement already satisfied: grpcio>=1.8.6 in /usr/local/lib/python3.7/dist-packages (from tensorflow<2.2,>=2.1->rasa==1.10.3) (1.50.0)\n",
            "Requirement already satisfied: wheel>=0.26 in /usr/local/lib/python3.7/dist-packages (from tensorflow<2.2,>=2.1->rasa==1.10.3) (0.38.3)\n",
            "Requirement already satisfied: google-pasta>=0.1.6 in /usr/local/lib/python3.7/dist-packages (from tensorflow<2.2,>=2.1->rasa==1.10.3) (0.2.0)\n",
            "Requirement already satisfied: astor>=0.6.0 in /usr/local/lib/python3.7/dist-packages (from tensorflow<2.2,>=2.1->rasa==1.10.3) (0.8.1)\n",
            "Requirement already satisfied: protobuf>=3.8.0 in /usr/local/lib/python3.7/dist-packages (from tensorflow<2.2,>=2.1->rasa==1.10.3) (3.19.6)\n",
            "Requirement already satisfied: keras-applications>=1.0.8 in /usr/local/lib/python3.7/dist-packages (from tensorflow<2.2,>=2.1->rasa==1.10.3) (1.0.8)\n",
            "Requirement already satisfied: gast==0.2.2 in /usr/local/lib/python3.7/dist-packages (from tensorflow<2.2,>=2.1->rasa==1.10.3) (0.2.2)\n",
            "Requirement already satisfied: h5py<=2.10.0 in /usr/local/lib/python3.7/dist-packages (from tensorflow<2.2,>=2.1->rasa==1.10.3) (2.10.0)\n",
            "Requirement already satisfied: tensorboard<2.2.0,>=2.1.0 in /usr/local/lib/python3.7/dist-packages (from tensorflow<2.2,>=2.1->rasa==1.10.3) (2.1.1)\n",
            "Requirement already satisfied: opt-einsum>=2.3.2 in /usr/local/lib/python3.7/dist-packages (from tensorflow<2.2,>=2.1->rasa==1.10.3) (3.3.0)\n",
            "Requirement already satisfied: keras-preprocessing==1.1.0 in /usr/local/lib/python3.7/dist-packages (from tensorflow<2.2,>=2.1->rasa==1.10.3) (1.1.0)\n",
            "Requirement already satisfied: termcolor>=1.1.0 in /usr/local/lib/python3.7/dist-packages (from tensorflow<2.2,>=2.1->rasa==1.10.3) (2.1.0)\n",
            "Requirement already satisfied: werkzeug>=0.11.15 in /usr/local/lib/python3.7/dist-packages (from tensorboard<2.2.0,>=2.1.0->tensorflow<2.2,>=2.1->rasa==1.10.3) (1.0.1)\n",
            "Requirement already satisfied: google-auth-oauthlib<0.5,>=0.4.1 in /usr/local/lib/python3.7/dist-packages (from tensorboard<2.2.0,>=2.1.0->tensorflow<2.2,>=2.1->rasa==1.10.3) (0.4.6)\n",
            "Requirement already satisfied: google-auth<2,>=1.6.3 in /usr/local/lib/python3.7/dist-packages (from tensorboard<2.2.0,>=2.1.0->tensorflow<2.2,>=2.1->rasa==1.10.3) (1.35.0)\n",
            "Requirement already satisfied: markdown>=2.6.8 in /usr/local/lib/python3.7/dist-packages (from tensorboard<2.2.0,>=2.1.0->tensorflow<2.2,>=2.1->rasa==1.10.3) (3.4.1)\n",
            "Requirement already satisfied: cachetools<5.0,>=2.0.0 in /usr/local/lib/python3.7/dist-packages (from google-auth<2,>=1.6.3->tensorboard<2.2.0,>=2.1.0->tensorflow<2.2,>=2.1->rasa==1.10.3) (4.2.4)\n",
            "Requirement already satisfied: requests-oauthlib>=0.7.0 in /usr/local/lib/python3.7/dist-packages (from google-auth-oauthlib<0.5,>=0.4.1->tensorboard<2.2.0,>=2.1.0->tensorflow<2.2,>=2.1->rasa==1.10.3) (1.3.1)\n",
            "Requirement already satisfied: zipp>=0.5 in /usr/local/lib/python3.7/dist-packages (from importlib-metadata->jsonpickle<1.5,>=1.3->rasa==1.10.3) (3.10.0)\n",
            "Requirement already satisfied: oauthlib>=3.0.0 in /usr/local/lib/python3.7/dist-packages (from requests-oauthlib>=0.7.0->google-auth-oauthlib<0.5,>=0.4.1->tensorboard<2.2.0,>=2.1.0->tensorflow<2.2,>=2.1->rasa==1.10.3) (3.2.2)\n",
            "Requirement already satisfied: pysocks in /usr/local/lib/python3.7/dist-packages (from twilio<6.27,>=6.26->rasa==1.10.3) (1.7.1)\n",
            "Requirement already satisfied: pytz-deprecation-shim in /usr/local/lib/python3.7/dist-packages (from tzlocal>=1.2->apscheduler<3.7,>=3.6->rasa==1.10.3) (0.1.0.post0)\n",
            "Requirement already satisfied: backports.zoneinfo in /usr/local/lib/python3.7/dist-packages (from tzlocal>=1.2->apscheduler<3.7,>=3.6->rasa==1.10.3) (0.2.1)\n",
            "Requirement already satisfied: requests-toolbelt in /usr/local/lib/python3.7/dist-packages (from webexteamssdk<1.4.0,>=1.1.1->rasa==1.10.3) (0.10.1)\n",
            "Requirement already satisfied: future in /usr/local/lib/python3.7/dist-packages (from webexteamssdk<1.4.0,>=1.1.1->rasa==1.10.3) (0.16.0)\n",
            "Requirement already satisfied: cffi>=1.12 in /usr/local/lib/python3.7/dist-packages (from cryptography->python-telegram-bot<13.0,>=11.1->rasa==1.10.3) (1.15.1)\n",
            "Requirement already satisfied: pycparser in /usr/local/lib/python3.7/dist-packages (from cffi>=1.12->cryptography->python-telegram-bot<13.0,>=11.1->rasa==1.10.3) (2.21)\n",
            "Requirement already satisfied: tzdata in /usr/local/lib/python3.7/dist-packages (from pytz-deprecation-shim->tzlocal>=1.2->apscheduler<3.7,>=3.6->rasa==1.10.3) (2022.6)\n"
          ]
        }
      ]
    },
    {
      "cell_type": "code",
      "source": [
        "!pip install -U tables==3.6.1\n",
        "!pip install -U ipython"
      ],
      "metadata": {
        "colab": {
          "base_uri": "https://localhost:8080/"
        },
        "id": "ZKr8XZP0GDnu",
        "outputId": "f6155184-0d57-45d4-a4f8-678c842d7473"
      },
      "execution_count": null,
      "outputs": [
        {
          "output_type": "stream",
          "name": "stdout",
          "text": [
            "Looking in indexes: https://pypi.org/simple, https://us-python.pkg.dev/colab-wheels/public/simple/\n",
            "Requirement already satisfied: tables==3.6.1 in /usr/local/lib/python3.7/dist-packages (3.6.1)\n",
            "Requirement already satisfied: numexpr>=2.6.2 in /usr/local/lib/python3.7/dist-packages (from tables==3.6.1) (2.8.4)\n",
            "Requirement already satisfied: numpy>=1.9.3 in /usr/local/lib/python3.7/dist-packages (from tables==3.6.1) (1.18.5)\n",
            "Looking in indexes: https://pypi.org/simple, https://us-python.pkg.dev/colab-wheels/public/simple/\n",
            "Requirement already satisfied: ipython in /usr/local/lib/python3.7/dist-packages (7.34.0)\n",
            "Requirement already satisfied: pickleshare in /usr/local/lib/python3.7/dist-packages (from ipython) (0.7.5)\n",
            "Requirement already satisfied: jedi>=0.16 in /usr/local/lib/python3.7/dist-packages (from ipython) (0.18.1)\n",
            "Requirement already satisfied: matplotlib-inline in /usr/local/lib/python3.7/dist-packages (from ipython) (0.1.6)\n",
            "Requirement already satisfied: decorator in /usr/local/lib/python3.7/dist-packages (from ipython) (4.4.2)\n",
            "Requirement already satisfied: prompt-toolkit!=3.0.0,!=3.0.1,<3.1.0,>=2.0.0 in /usr/local/lib/python3.7/dist-packages (from ipython) (2.0.10)\n",
            "Requirement already satisfied: backcall in /usr/local/lib/python3.7/dist-packages (from ipython) (0.2.0)\n",
            "Requirement already satisfied: setuptools>=18.5 in /usr/local/lib/python3.7/dist-packages (from ipython) (57.4.0)\n",
            "Requirement already satisfied: pygments in /usr/local/lib/python3.7/dist-packages (from ipython) (2.6.1)\n",
            "Requirement already satisfied: traitlets>=4.2 in /usr/local/lib/python3.7/dist-packages (from ipython) (5.1.1)\n",
            "Requirement already satisfied: pexpect>4.3 in /usr/local/lib/python3.7/dist-packages (from ipython) (4.8.0)\n",
            "Requirement already satisfied: parso<0.9.0,>=0.8.0 in /usr/local/lib/python3.7/dist-packages (from jedi>=0.16->ipython) (0.8.3)\n",
            "Requirement already satisfied: ptyprocess>=0.5 in /usr/local/lib/python3.7/dist-packages (from pexpect>4.3->ipython) (0.7.0)\n",
            "Requirement already satisfied: six>=1.9.0 in /usr/local/lib/python3.7/dist-packages (from prompt-toolkit!=3.0.0,!=3.0.1,<3.1.0,>=2.0.0->ipython) (1.15.0)\n",
            "Requirement already satisfied: wcwidth in /usr/local/lib/python3.7/dist-packages (from prompt-toolkit!=3.0.0,!=3.0.1,<3.1.0,>=2.0.0->ipython) (0.2.5)\n"
          ]
        }
      ]
    },
    {
      "cell_type": "code",
      "source": [
        "!python -m spacy download en_core_web_sm # download en_core_web_sm data"
      ],
      "metadata": {
        "colab": {
          "base_uri": "https://localhost:8080/"
        },
        "id": "sFmvnJ0Afs8E",
        "outputId": "31ae0924-f92d-4aaf-850d-c2b745dd2fcc"
      },
      "execution_count": null,
      "outputs": [
        {
          "output_type": "stream",
          "name": "stdout",
          "text": [
            "2022-11-10 20:24:06.485789: W tensorflow/stream_executor/platform/default/dso_loader.cc:55] Could not load dynamic library 'libnvinfer.so.6'; dlerror: libnvinfer.so.6: cannot open shared object file: No such file or directory; LD_LIBRARY_PATH: /usr/local/nvidia/lib:/usr/local/nvidia/lib64\n",
            "2022-11-10 20:24:06.485982: W tensorflow/stream_executor/platform/default/dso_loader.cc:55] Could not load dynamic library 'libnvinfer_plugin.so.6'; dlerror: libnvinfer_plugin.so.6: cannot open shared object file: No such file or directory; LD_LIBRARY_PATH: /usr/local/nvidia/lib:/usr/local/nvidia/lib64\n",
            "2022-11-10 20:24:06.486006: W tensorflow/compiler/tf2tensorrt/utils/py_utils.cc:30] Cannot dlopen some TensorRT libraries. If you would like to use Nvidia GPU with TensorRT, please make sure the missing libraries mentioned above are installed properly.\n",
            "Looking in indexes: https://pypi.org/simple, https://us-python.pkg.dev/colab-wheels/public/simple/\n",
            "Collecting en-core-web-sm==3.4.1\n",
            "  Downloading https://github.com/explosion/spacy-models/releases/download/en_core_web_sm-3.4.1/en_core_web_sm-3.4.1-py3-none-any.whl (12.8 MB)\n",
            "\u001b[K     |████████████████████████████████| 12.8 MB 5.3 MB/s \n",
            "\u001b[?25hRequirement already satisfied: spacy<3.5.0,>=3.4.0 in /usr/local/lib/python3.7/dist-packages (from en-core-web-sm==3.4.1) (3.4.2)\n",
            "Requirement already satisfied: langcodes<4.0.0,>=3.2.0 in /usr/local/lib/python3.7/dist-packages (from spacy<3.5.0,>=3.4.0->en-core-web-sm==3.4.1) (3.3.0)\n",
            "Requirement already satisfied: numpy>=1.15.0 in /usr/local/lib/python3.7/dist-packages (from spacy<3.5.0,>=3.4.0->en-core-web-sm==3.4.1) (1.18.5)\n",
            "Requirement already satisfied: pydantic!=1.8,!=1.8.1,<1.11.0,>=1.7.4 in /usr/local/lib/python3.7/dist-packages (from spacy<3.5.0,>=3.4.0->en-core-web-sm==3.4.1) (1.10.2)\n",
            "Requirement already satisfied: requests<3.0.0,>=2.13.0 in /usr/local/lib/python3.7/dist-packages (from spacy<3.5.0,>=3.4.0->en-core-web-sm==3.4.1) (2.23.0)\n",
            "Requirement already satisfied: spacy-loggers<2.0.0,>=1.0.0 in /usr/local/lib/python3.7/dist-packages (from spacy<3.5.0,>=3.4.0->en-core-web-sm==3.4.1) (1.0.3)\n",
            "Requirement already satisfied: cymem<2.1.0,>=2.0.2 in /usr/local/lib/python3.7/dist-packages (from spacy<3.5.0,>=3.4.0->en-core-web-sm==3.4.1) (2.0.7)\n",
            "Requirement already satisfied: typing-extensions<4.2.0,>=3.7.4 in /usr/local/lib/python3.7/dist-packages (from spacy<3.5.0,>=3.4.0->en-core-web-sm==3.4.1) (4.1.1)\n",
            "Requirement already satisfied: catalogue<2.1.0,>=2.0.6 in /usr/local/lib/python3.7/dist-packages (from spacy<3.5.0,>=3.4.0->en-core-web-sm==3.4.1) (2.0.8)\n",
            "Requirement already satisfied: thinc<8.2.0,>=8.1.0 in /usr/local/lib/python3.7/dist-packages (from spacy<3.5.0,>=3.4.0->en-core-web-sm==3.4.1) (8.1.5)\n",
            "Requirement already satisfied: wasabi<1.1.0,>=0.9.1 in /usr/local/lib/python3.7/dist-packages (from spacy<3.5.0,>=3.4.0->en-core-web-sm==3.4.1) (0.10.1)\n",
            "Requirement already satisfied: preshed<3.1.0,>=3.0.2 in /usr/local/lib/python3.7/dist-packages (from spacy<3.5.0,>=3.4.0->en-core-web-sm==3.4.1) (3.0.8)\n",
            "Requirement already satisfied: pathy>=0.3.5 in /usr/local/lib/python3.7/dist-packages (from spacy<3.5.0,>=3.4.0->en-core-web-sm==3.4.1) (0.6.2)\n",
            "Requirement already satisfied: jinja2 in /usr/local/lib/python3.7/dist-packages (from spacy<3.5.0,>=3.4.0->en-core-web-sm==3.4.1) (2.11.3)\n",
            "Requirement already satisfied: srsly<3.0.0,>=2.4.3 in /usr/local/lib/python3.7/dist-packages (from spacy<3.5.0,>=3.4.0->en-core-web-sm==3.4.1) (2.4.5)\n",
            "Requirement already satisfied: setuptools in /usr/local/lib/python3.7/dist-packages (from spacy<3.5.0,>=3.4.0->en-core-web-sm==3.4.1) (57.4.0)\n",
            "Requirement already satisfied: spacy-legacy<3.1.0,>=3.0.10 in /usr/local/lib/python3.7/dist-packages (from spacy<3.5.0,>=3.4.0->en-core-web-sm==3.4.1) (3.0.10)\n",
            "Requirement already satisfied: packaging>=20.0 in /usr/local/lib/python3.7/dist-packages (from spacy<3.5.0,>=3.4.0->en-core-web-sm==3.4.1) (20.9)\n",
            "Requirement already satisfied: typer<0.5.0,>=0.3.0 in /usr/local/lib/python3.7/dist-packages (from spacy<3.5.0,>=3.4.0->en-core-web-sm==3.4.1) (0.4.2)\n",
            "Requirement already satisfied: tqdm<5.0.0,>=4.38.0 in /usr/local/lib/python3.7/dist-packages (from spacy<3.5.0,>=3.4.0->en-core-web-sm==3.4.1) (4.45.0)\n",
            "Requirement already satisfied: murmurhash<1.1.0,>=0.28.0 in /usr/local/lib/python3.7/dist-packages (from spacy<3.5.0,>=3.4.0->en-core-web-sm==3.4.1) (1.0.9)\n",
            "Requirement already satisfied: zipp>=0.5 in /usr/local/lib/python3.7/dist-packages (from catalogue<2.1.0,>=2.0.6->spacy<3.5.0,>=3.4.0->en-core-web-sm==3.4.1) (3.10.0)\n",
            "Requirement already satisfied: pyparsing>=2.0.2 in /usr/local/lib/python3.7/dist-packages (from packaging>=20.0->spacy<3.5.0,>=3.4.0->en-core-web-sm==3.4.1) (3.0.9)\n",
            "Requirement already satisfied: smart-open<6.0.0,>=5.2.1 in /usr/local/lib/python3.7/dist-packages (from pathy>=0.3.5->spacy<3.5.0,>=3.4.0->en-core-web-sm==3.4.1) (5.2.1)\n",
            "Requirement already satisfied: urllib3!=1.25.0,!=1.25.1,<1.26,>=1.21.1 in /usr/local/lib/python3.7/dist-packages (from requests<3.0.0,>=2.13.0->spacy<3.5.0,>=3.4.0->en-core-web-sm==3.4.1) (1.25.11)\n",
            "Requirement already satisfied: chardet<4,>=3.0.2 in /usr/local/lib/python3.7/dist-packages (from requests<3.0.0,>=2.13.0->spacy<3.5.0,>=3.4.0->en-core-web-sm==3.4.1) (3.0.4)\n",
            "Requirement already satisfied: idna<3,>=2.5 in /usr/local/lib/python3.7/dist-packages (from requests<3.0.0,>=2.13.0->spacy<3.5.0,>=3.4.0->en-core-web-sm==3.4.1) (2.10)\n",
            "Requirement already satisfied: certifi>=2017.4.17 in /usr/local/lib/python3.7/dist-packages (from requests<3.0.0,>=2.13.0->spacy<3.5.0,>=3.4.0->en-core-web-sm==3.4.1) (2022.9.24)\n",
            "Requirement already satisfied: confection<1.0.0,>=0.0.1 in /usr/local/lib/python3.7/dist-packages (from thinc<8.2.0,>=8.1.0->spacy<3.5.0,>=3.4.0->en-core-web-sm==3.4.1) (0.0.3)\n",
            "Requirement already satisfied: blis<0.8.0,>=0.7.8 in /usr/local/lib/python3.7/dist-packages (from thinc<8.2.0,>=8.1.0->spacy<3.5.0,>=3.4.0->en-core-web-sm==3.4.1) (0.7.9)\n",
            "Requirement already satisfied: click<9.0.0,>=7.1.1 in /usr/local/lib/python3.7/dist-packages (from typer<0.5.0,>=0.3.0->spacy<3.5.0,>=3.4.0->en-core-web-sm==3.4.1) (7.1.2)\n",
            "Requirement already satisfied: MarkupSafe>=0.23 in /usr/local/lib/python3.7/dist-packages (from jinja2->spacy<3.5.0,>=3.4.0->en-core-web-sm==3.4.1) (2.0.1)\n",
            "\u001b[38;5;2m✔ Download and installation successful\u001b[0m\n",
            "You can now load the package via spacy.load('en_core_web_sm')\n"
          ]
        }
      ]
    },
    {
      "cell_type": "code",
      "source": [
        "!pip install nest_asyncio==1.3.3"
      ],
      "metadata": {
        "colab": {
          "base_uri": "https://localhost:8080/"
        },
        "id": "BlmkMQQ3f10O",
        "outputId": "db19ba44-55e0-41b8-d2d6-0497bdbe0628"
      },
      "execution_count": null,
      "outputs": [
        {
          "output_type": "stream",
          "name": "stdout",
          "text": [
            "Looking in indexes: https://pypi.org/simple, https://us-python.pkg.dev/colab-wheels/public/simple/\n",
            "Collecting nest_asyncio==1.3.3\n",
            "  Downloading nest_asyncio-1.3.3-py3-none-any.whl (4.7 kB)\n",
            "Installing collected packages: nest-asyncio\n",
            "Successfully installed nest-asyncio-1.3.3\n"
          ]
        }
      ]
    },
    {
      "cell_type": "code",
      "source": [
        "import os\n",
        "import rasa\n",
        "import nest_asyncio\n",
        "nest_asyncio.apply()\n",
        "print('event loop is ready')"
      ],
      "metadata": {
        "id": "T6SHCwQFf16g",
        "colab": {
          "base_uri": "https://localhost:8080/"
        },
        "outputId": "fff939f4-3169-441a-e096-547c88aba3e3"
      },
      "execution_count": null,
      "outputs": [
        {
          "output_type": "stream",
          "name": "stdout",
          "text": [
            "event loop is ready\n"
          ]
        }
      ]
    },
    {
      "cell_type": "code",
      "source": [
        "from rasa.cli.scaffold import create_initial_project"
      ],
      "metadata": {
        "id": "wvT9MtcwgDJ5"
      },
      "execution_count": null,
      "outputs": []
    },
    {
      "cell_type": "code",
      "source": [
        "project = \"En_bot\"  # defining rasa project name\n",
        "create_initial_project(project) # creat rasa project"
      ],
      "metadata": {
        "id": "Gh38oZVngnN3"
      },
      "execution_count": null,
      "outputs": []
    },
    {
      "cell_type": "code",
      "source": [
        "# move into project directory and show files\n",
        "os.chdir(project)\n",
        "print(os.listdir(\".\"))"
      ],
      "metadata": {
        "colab": {
          "base_uri": "https://localhost:8080/"
        },
        "id": "w3Ym4lCogvL4",
        "outputId": "c5fb26e0-4b3b-4a79-f8b1-32738542f937"
      },
      "execution_count": null,
      "outputs": [
        {
          "output_type": "stream",
          "name": "stdout",
          "text": [
            "['data', 'tests', 'endpoints.yml', '__init__.py', 'config.yml', '__pycache__', 'actions.py', 'domain.yml', 'credentials.yml']\n"
          ]
        }
      ]
    },
    {
      "cell_type": "code",
      "source": [
        "chat(model_path, endpoints)config = \"config.yml\"\n",
        "training_files = \"data/\"\n",
        "domain = \"domain.yml\"\n",
        "output = \"models/\"\n",
        "print(config, training_files, domain, output)"
      ],
      "metadata": {
        "colab": {
          "base_uri": "https://localhost:8080/"
        },
        "id": "ikn8W7Hjg1E_",
        "outputId": "8c368bb7-1b9c-46a8-8c21-a5f06526ee6d"
      },
      "execution_count": null,
      "outputs": [
        {
          "output_type": "stream",
          "name": "stdout",
          "text": [
            "config.yml data/ domain.yml models/\n"
          ]
        }
      ]
    },
    {
      "cell_type": "code",
      "source": [
        "model_path = rasa.train(domain, config, [training_files], output) # training rasa chat bot\n",
        "print(model_path) # print the path of model"
      ],
      "metadata": {
        "id": "4ZW8RM62g7Bc",
        "colab": {
          "base_uri": "https://localhost:8080/"
        },
        "outputId": "c2581007-a4dd-49ce-a2c6-c8d88f96e77c"
      },
      "execution_count": null,
      "outputs": [
        {
          "output_type": "stream",
          "name": "stdout",
          "text": [
            "\u001b[94mTraining Core model...\u001b[0m\n"
          ]
        },
        {
          "output_type": "stream",
          "name": "stderr",
          "text": [
            "Processed Story Blocks: 100%|██████████| 5/5 [00:00<00:00, 255.30it/s, # trackers=1]\n",
            "Processed Story Blocks: 100%|██████████| 5/5 [00:00<00:00, 145.72it/s, # trackers=5]\n",
            "Processed Story Blocks: 100%|██████████| 5/5 [00:00<00:00, 114.08it/s, # trackers=20]\n",
            "Processed Story Blocks: 100%|██████████| 5/5 [00:00<00:00, 81.39it/s, # trackers=24]\n",
            "Processed trackers: 100%|██████████| 5/5 [00:00<00:00, 60.84it/s, # actions=16]\n",
            "Processed actions: 16it [00:00, 320.46it/s, # examples=16]\n",
            "Processed trackers: 100%|██████████| 231/231 [00:10<00:00, 21.71it/s, # actions=126]\n",
            "Epochs: 100%|██████████| 100/100 [00:19<00:00,  5.09it/s, t_loss=0.127, loss=0.056, acc=1.000]\n"
          ]
        },
        {
          "output_type": "stream",
          "name": "stdout",
          "text": [
            "\u001b[94mCore model training completed.\u001b[0m\n",
            "\u001b[94mTraining NLU model...\u001b[0m\n"
          ]
        },
        {
          "output_type": "stream",
          "name": "stderr",
          "text": [
            "\u001b[93m/usr/local/lib/python3.7/dist-packages/rasa/utils/common.py:363: UserWarning: You specified 'DIET' to train entities, but no entities are present in the training data. Skip training of entities.\n",
            "Epochs: 100%|██████████| 100/100 [00:23<00:00,  4.33it/s, t_loss=1.519, i_loss=0.135, i_acc=1.000]\n"
          ]
        },
        {
          "output_type": "stream",
          "name": "stdout",
          "text": [
            "\u001b[94mNLU model training completed.\u001b[0m\n",
            "\u001b[92mYour Rasa model is trained and saved at '/content/En_bot/models/20221110-200543.tar.gz'.\u001b[0m\n",
            "models/20221110-200543.tar.gz\n"
          ]
        }
      ]
    },
    {
      "cell_type": "code",
      "source": [
        "from rasa.jupyter import chat # runing rasa in jupyter\n",
        "endpoints = 'endpoints.yml'\n",
        "chat(model_path, endpoints)"
      ],
      "metadata": {
        "colab": {
          "base_uri": "https://localhost:8080/"
        },
        "id": "aONc37VXJs2S",
        "outputId": "95ae30f4-2571-4ef1-e01c-52a823d5cf71"
      },
      "execution_count": null,
      "outputs": [
        {
          "name": "stdout",
          "output_type": "stream",
          "text": [
            "Your bot is ready to talk! Type your messages here or send '/stop'.\n",
            "hi\n",
            "\u001b[92mHey! How are you?\u001b[0m\n",
            "thank you\n",
            "\u001b[92mHey! How are you?\u001b[0m\n",
            "fine\n",
            "\u001b[92mBye\u001b[0m\n",
            "bye\n",
            "\u001b[92mBye\u001b[0m\n",
            "/stop\n"
          ]
        }
      ]
    },
    {
      "cell_type": "code",
      "source": [
        "chat(model_path, endpoints)"
      ],
      "metadata": {
        "colab": {
          "base_uri": "https://localhost:8080/",
          "height": 1000
        },
        "id": "wFOh0YG8KFG1",
        "outputId": "c82d8bf4-f7b9-4618-cd57-2d407f122d67"
      },
      "execution_count": null,
      "outputs": [
        {
          "output_type": "stream",
          "name": "stdout",
          "text": [
            "Your bot is ready to talk! Type your messages here or send '/stop'.\n",
            "hi\n",
            "\u001b[92mHey! How are you?\u001b[0m\n",
            "my name is hadi\n",
            "\u001b[92mHere is something to cheer you up:\u001b[0m\n"
          ]
        },
        {
          "output_type": "display_data",
          "data": {
            "text/html": [
              "<img src=\"https://i.imgur.com/nGF1K8f.jpg\"/>"
            ],
            "text/plain": [
              "<IPython.core.display.Image object>"
            ]
          },
          "metadata": {}
        },
        {
          "name": "stdout",
          "output_type": "stream",
          "text": [
            "\u001b[92mDid that help you?\u001b[0m\n",
            "yes\n",
            "\u001b[92mGreat, carry on!\u001b[0m\n",
            "thank you\n",
            "\u001b[92mHey! How are you?\u001b[0m\n",
            "fine\n",
            "\u001b[92mBye\u001b[0m\n",
            "bye\n",
            "\u001b[92mBye\u001b[0m\n",
            "/stop\n"
          ]
        }
      ]
    },
    {
      "cell_type": "code",
      "source": [
        "## Hadi_Alizadeh"
      ],
      "metadata": {
        "id": "0YoQISlTMaV8"
      },
      "execution_count": null,
      "outputs": []
    }
  ]
}
