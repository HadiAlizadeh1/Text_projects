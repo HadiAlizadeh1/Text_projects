{
 "cells": [
  {
   "cell_type": "markdown",
   "id": "b70e8f13-a20e-44e5-9100-04604387fb23",
   "metadata": {},
   "source": [
    "### In the name of Allah"
   ]
  },
  {
   "cell_type": "code",
   "execution_count": 20,
   "id": "a4a0f80f-5d14-45df-b3eb-d78bb25e088d",
   "metadata": {},
   "outputs": [
    {
     "name": "stdout",
     "output_type": "stream",
     "text": [
      "Requirement already satisfied: nest_asyncio in /home/hadi/anaconda3/envs/rasa_bot/lib/python3.8/site-packages (1.3.3)\n",
      "Note: you may need to restart the kernel to use updated packages.\n"
     ]
    }
   ],
   "source": [
    "pip install nest_asyncio"
   ]
  },
  {
   "cell_type": "code",
   "execution_count": 21,
   "id": "9b78eb7c-a1a4-4562-bd14-999fbc752a72",
   "metadata": {},
   "outputs": [
    {
     "name": "stdout",
     "output_type": "stream",
     "text": [
      "Event loop ready.\n"
     ]
    }
   ],
   "source": [
    "import nest_asyncio\n",
    "\n",
    "nest_asyncio.apply()\n",
    "print(\"Event loop ready.\")"
   ]
  },
  {
   "cell_type": "code",
   "execution_count": 22,
   "id": "3edd9c86-cde0-40ac-a54a-be34a09470c2",
   "metadata": {},
   "outputs": [
    {
     "name": "stdout",
     "output_type": "stream",
     "text": [
      "['actions', 'config.yml', 'credentials.yml', 'data', 'domain.yml', 'endpoints.yml', 'tests']\n"
     ]
    }
   ],
   "source": [
    "from rasa.cli.scaffold import create_initial_project\n",
    "import os\n",
    "\n",
    "project = \"test-project\"\n",
    "create_initial_project(project)\n",
    "\n",
    "# move into project directory and show files\n",
    "os.chdir(project)\n",
    "print(os.listdir(\".\"))"
   ]
  },
  {
   "cell_type": "code",
   "execution_count": 23,
   "id": "9d1100f9-f73d-4e79-97c8-ad76b201c14e",
   "metadata": {},
   "outputs": [
    {
     "name": "stdout",
     "output_type": "stream",
     "text": [
      "config.yml data/ domain.yml models/\n"
     ]
    }
   ],
   "source": [
    "config = \"config.yml\"\n",
    "training_files = \"data/\"\n",
    "domain = \"domain.yml\"\n",
    "output = \"models/\"\n",
    "print(config, training_files, domain, output)"
   ]
  },
  {
   "cell_type": "code",
   "execution_count": 24,
   "id": "dfc5e256-0360-49e9-9315-1a671f566a8d",
   "metadata": {},
   "outputs": [
    {
     "name": "stdout",
     "output_type": "stream",
     "text": [
      "\u001b[94mThe configuration for pipeline and policies was chosen automatically. It was written into the config file at 'config.yml'.\u001b[0m\n"
     ]
    },
    {
     "name": "stderr",
     "output_type": "stream",
     "text": [
      "2022-11-17 13:28:29.100571: W tensorflow/stream_executor/platform/default/dso_loader.cc:64] Could not load dynamic library 'libcuda.so.1'; dlerror: libcuda.so.1: cannot open shared object file: No such file or directory\n",
      "2022-11-17 13:28:29.100663: W tensorflow/stream_executor/cuda/cuda_driver.cc:269] failed call to cuInit: UNKNOWN ERROR (303)\n",
      "2022-11-17 13:28:29.100739: I tensorflow/stream_executor/cuda/cuda_diagnostics.cc:156] kernel driver does not appear to be running on this host (Hadi): /proc/driver/nvidia/version does not exist\n",
      "2022-11-17 13:28:29.101228: I tensorflow/core/platform/cpu_feature_guard.cc:151] This TensorFlow binary is optimized with oneAPI Deep Neural Network Library (oneDNN) to use the following CPU instructions in performance-critical operations:  AVX2 FMA\n",
      "To enable them in other operations, rebuild TensorFlow with the appropriate compiler flags.\n",
      "/home/hadi/anaconda3/envs/rasa_bot/lib/python3.8/site-packages/rasa/utils/tensorflow/model_data.py:774: VisibleDeprecationWarning: Creating an ndarray from ragged nested sequences (which is a list-or-tuple of lists-or-tuples-or ndarrays with different lengths or shapes) is deprecated. If you meant to do this, you must specify 'dtype=object' when creating the ndarray.\n",
      "  np.concatenate(np.array(f)),\n",
      "Epochs: 100%|███████████████████████████████████████████████████| 100/100 [00:29<00:00,  3.39it/s, t_loss=1.11, i_acc=1]\n",
      "Processed story blocks: 100%|██████████████████████████████████████████████| 3/3 [00:00<00:00, 790.68it/s, # trackers=1]\n",
      "Processed story blocks: 100%|██████████████████████████████████████████████| 3/3 [00:00<00:00, 417.41it/s, # trackers=3]\n",
      "Processed story blocks: 100%|█████████████████████████████████████████████| 3/3 [00:00<00:00, 116.24it/s, # trackers=12]\n",
      "Processed story blocks: 100%|██████████████████████████████████████████████| 3/3 [00:00<00:00, 51.44it/s, # trackers=39]\n",
      "Processed rules: 100%|█████████████████████████████████████████████████████| 2/2 [00:00<00:00, 770.09it/s, # trackers=1]\n",
      "Processed trackers: 100%|███████████████████████████████████████████████████| 3/3 [00:00<00:00, 175.06it/s, # action=12]\n",
      "Processed actions: 12it [00:00, 793.66it/s, # examples=12]\n",
      "Processed trackers: 100%|████████████████████████████████████████████████████| 2/2 [00:00<00:00, 326.09it/s, # action=5]\n",
      "Processed actions: 5it [00:00, 1334.66it/s, # examples=4]\n",
      "Processed trackers: 100%|███████████████████████████████████████████████████| 3/3 [00:00<00:00, 200.07it/s, # action=12]\n",
      "Processed trackers: 100%|███████████████████████████████████████████████████████████████| 2/2 [00:00<00:00, 1523.26it/s]\n",
      "Processed trackers: 100%|████████████████████████████████████████████████████████████████| 5/5 [00:00<00:00, 655.52it/s]\n",
      "Processed trackers: 100%|███████████████████████████████████████████████| 120/120 [00:00<00:00, 994.01it/s, # action=30]\n",
      "/home/hadi/anaconda3/envs/rasa_bot/lib/python3.8/site-packages/rasa/utils/tensorflow/model_data_utils.py:388: VisibleDeprecationWarning: Creating an ndarray from ragged nested sequences (which is a list-or-tuple of lists-or-tuples-or ndarrays with different lengths or shapes) is deprecated. If you meant to do this, you must specify 'dtype=object' when creating the ndarray.\n",
      "  np.array(values), number_of_dimensions=4\n",
      "/home/hadi/anaconda3/envs/rasa_bot/lib/python3.8/site-packages/rasa/utils/tensorflow/model_data_utils.py:404: VisibleDeprecationWarning: Creating an ndarray from ragged nested sequences (which is a list-or-tuple of lists-or-tuples-or ndarrays with different lengths or shapes) is deprecated. If you meant to do this, you must specify 'dtype=object' when creating the ndarray.\n",
      "  MASK: [FeatureArray(np.array(attribute_masks), number_of_dimensions=3)]\n",
      "Epochs:   0%|                                                                                   | 0/100 [00:00<?, ?it/s]/home/hadi/anaconda3/envs/rasa_bot/lib/python3.8/site-packages/tensorflow/python/framework/indexed_slices.py:444: UserWarning: Converting sparse IndexedSlices(IndexedSlices(indices=Tensor(\"gradients/cond_grad/Identity_1:0\", shape=(None,), dtype=int64), values=Tensor(\"gradients/cond_grad/Identity:0\", shape=(None,), dtype=float32), dense_shape=Tensor(\"gradients/cond_grad/Identity_2:0\", shape=(1,), dtype=int32))) to a dense Tensor of unknown shape. This may consume a large amount of memory.\n",
      "  warnings.warn(\n",
      "/home/hadi/anaconda3/envs/rasa_bot/lib/python3.8/site-packages/tensorflow/python/framework/indexed_slices.py:444: UserWarning: Converting sparse IndexedSlices(IndexedSlices(indices=Tensor(\"gradients/cond_1_grad/Identity_1:0\", shape=(None,), dtype=int64), values=Tensor(\"gradients/cond_1_grad/Identity:0\", shape=(None,), dtype=float32), dense_shape=Tensor(\"gradients/cond_1_grad/Identity_2:0\", shape=(1,), dtype=int32))) to a dense Tensor of unknown shape. This may consume a large amount of memory.\n",
      "  warnings.warn(\n",
      "Epochs: 100%|██████████████████████████████████████████| 100/100 [00:15<00:00,  6.39it/s, t_loss=1.61, loss=1.45, acc=1]\n",
      "Processed trackers: 100%|██████████████████████████████████████████████| 120/120 [00:00<00:00, 2169.50it/s, # intent=12]\n",
      "Epochs: 100%|███████████████████████████████████████| 100/100 [00:14<00:00,  6.90it/s, t_loss=0.125, loss=0.0089, acc=1]\n",
      "/home/hadi/anaconda3/envs/rasa_bot/lib/python3.8/site-packages/rasa/core/policies/unexpected_intent_policy.py:839: DeprecationWarning: the `interpolation=` argument to quantile was renamed to `method=`, which has additional options.\n",
      "Users of the modes 'nearest', 'lower', 'higher', or 'midpoint' are encouraged to review the method they used. (Deprecated NumPy 1.22)\n",
      "  quantile_values = np.quantile(  # type: ignore[call-overload]\n"
     ]
    },
    {
     "name": "stdout",
     "output_type": "stream",
     "text": [
      "\u001b[92mYour Rasa model is trained and saved at 'models/20221117-132826-happy-sleeper.tar.gz'.\u001b[0m\n",
      "TrainingResult(model='models/20221117-132826-happy-sleeper.tar.gz', code=0, dry_run_results=None)\n"
     ]
    }
   ],
   "source": [
    "import rasa\n",
    "\n",
    "model_path = rasa.train(domain, config, [training_files], output)\n",
    "print(model_path)"
   ]
  },
  {
   "cell_type": "code",
   "execution_count": 25,
   "id": "562cc6ab-5beb-40e9-a6ff-3240fb2c072c",
   "metadata": {},
   "outputs": [
    {
     "name": "stdout",
     "output_type": "stream",
     "text": [
      "Requirement already satisfied: nest_asyncio==1.3.3 in /home/hadi/anaconda3/envs/rasa_bot/lib/python3.8/site-packages (1.3.3)\n"
     ]
    }
   ],
   "source": [
    "!pip install nest_asyncio==1.3.3"
   ]
  },
  {
   "cell_type": "code",
   "execution_count": 26,
   "id": "dd7cb11f-4b69-44d2-8ac1-fbb1d2dde87e",
   "metadata": {},
   "outputs": [],
   "source": [
    "from rasa.cli.scaffold import create_initial_project"
   ]
  },
  {
   "cell_type": "code",
   "execution_count": 27,
   "id": "510891fd-3942-475a-98f4-fb51987f63a3",
   "metadata": {},
   "outputs": [
    {
     "name": "stdout",
     "output_type": "stream",
     "text": [
      "event loop is ready\n"
     ]
    }
   ],
   "source": [
    "import os\n",
    "import rasa\n",
    "import nest_asyncio\n",
    "nest_asyncio.apply()\n",
    "print('event loop is ready')"
   ]
  },
  {
   "cell_type": "code",
   "execution_count": 34,
   "id": "248f85e3-909c-43c1-a457-3361f832553a",
   "metadata": {},
   "outputs": [
    {
     "name": "stdout",
     "output_type": "stream",
     "text": [
      "\u001b7\u001b[?47h\u001b[?1h\u001b=\u0002\u0007\u001b[H\u001b[2J\u001b[m\u001b[38;5;6m\u001b[48;5;16m\u001b[1m\u001b[1;1Hngrok\u001b[m\u001b[38;5;16m\u001b[48;5;16m \u001b[m\u001b[38;5;7m\u001b[48;5;16mby\u001b[m\u001b[38;5;16m\u001b[48;5;16m \u001b[m\u001b[38;5;6m\u001b[48;5;16m\u001b[1m@inconshreveable\u001b[m\u001b[38;5;16m\u001b[48;5;16m                                       \u001b[m\u001b[38;5;7m\u001b[48;5;16m(Ctrl+C to quit)\u001b[m\u001b[38;5;16m\u001b[48;5;16m\u001b[2;1H                                                                                \u001b[m\u001b[38;5;6m\u001b[48;5;16m\u001b[3;1HSession Status                connecting\u001b[m\u001b[38;5;16m\u001b[48;5;16m                                        \u001b[m\u001b[38;5;7m\u001b[48;5;16m\u001b[4;1HVersion                       2.3.40\u001b[m\u001b[38;5;16m\u001b[48;5;16m                                            \u001b[m\u001b[38;5;7m\u001b[48;5;16m\u001b[5;1HRegion                        United States (us)\u001b[m\u001b[38;5;16m\u001b[48;5;16m                                \u001b[m\u001b[38;5;7m\u001b[48;5;16m\u001b[6;1HWeb Interface                 http://127.0.0.1:4040\u001b[m\u001b[38;5;16m\u001b[48;5;16m                             \u001b[7;1H                                                                                \u001b[m\u001b[38;5;7m\u001b[48;5;16m\u001b[8;1HConnections                   ttl     opn     rt1     rt5     p50     p90     \u001b[m\u001b[38;5;16m\u001b[48;5;16m  \u001b[m\u001b[38;5;7m\u001b[48;5;16m\u001b[9;1H                              0       0       0.00    0.00    0.00    0.00    \u001b[m\u001b[38;5;16m\u001b[48;5;16m  \u001b[10;1H                                                                                \u001b[11;1H                                                                                \u001b[12;1H                                                                                \u001b[13;1H                                                                                \u001b[14;1H                                                                                \u001b[15;1H                                                                                \u001b[16;1H                                                                                \u001b[17;1H                                                                                \u001b[18;1H                                                                                \u001b[19;1H                                                                                \u001b[20;1H                                                                                \u001b[21;1H                                                                                \u001b[22;1H                                                                                \u001b[23;1H                                                                                \u001b[24;1H                                                                                \u001b[m\u001b[38;5;2m\u001b[48;5;16m\u001b[3;1HSession Status                online\u001b[m\u001b[38;5;16m\u001b[48;5;16m    \u001b[m\u001b[38;5;7m\u001b[48;5;16m\u001b[4;1HS\u001b[4;3Hs\u001b[4;9HExpires\u001b[4;31H1 hour, 59 minutes\u001b[5;1HV\u001b[5;3Hrsion\u001b[5;31H2.3.40\u001b[m\u001b[38;5;16m\u001b[48;5;16m            \u001b[m\u001b[38;5;7m\u001b[48;5;16m\u001b[6;1HR\u001b[6;3Hgio\u001b[6;7H       \u001b[6;31HUnited States (us)\u001b[m\u001b[38;5;16m\u001b[48;5;16m   \u001b[m\u001b[38;5;7m\u001b[48;5;16m\u001b[7;1HWeb Interface                 http://127.0.0.1:4040\u001b[8;1HF\u001b[8;3Hrward\u001b[8;9Hng \u001b[8;31Hh\u001b[8;33Htps://db22-5-121-28-126.ngrok.io ->\u001b[8;69Hhttp://local\u001b[m\u001b[38;5;16m\u001b[48;5;16m\u001b[9;1H                                                                              \u001b[m\u001b[38;5;7m\u001b[48;5;16m\u001b[10;1HConnections                   ttl     opn     rt1     rt5     p50     p90     \u001b[11;1H                              0       0       0.00    0.00    0.00    0.00    \u001b[8;35H:/\u001b[8;38Hdb2\u001b[8;42H-5-121-28-126.ngrok.io -> ht\u001b[8;71Hp:/\u001b[8;75Hlocalh\u001b[9;1HForwarding                    https://db22-5-121-28-126.ngrok.io -> http://local\u001b[m\u001b[38;5;16m\u001b[48;5;16m\u001b[10;1H                                                                              \u001b[m\u001b[38;5;7m\u001b[48;5;16m\u001b[11;1HConnections\u001b[11;31Httl\u001b[11;39Hopn\u001b[11;47Hrt1 \u001b[11;55Hrt5 \u001b[11;63Hp5\u001b[11;66H \u001b[11;71Hp9\u001b[11;74H \u001b[12;1H                              0       0       0.00    0.00    0.00    0.00    \u001b[4;40H8\u001b[4;40H7\u0002\u0007\u001b[m\u001b[H\u001b[2J\u001b[2J\u001b[?47l\u001b8\u001b[?1l\u001b>\u001b[?1006l\u001b[?1015l\u001b[?1002l\u001b[?1000l"
     ]
    }
   ],
   "source": [
    "!ngrok http 5005"
   ]
  },
  {
   "cell_type": "code",
   "execution_count": 40,
   "id": "51de3b22-8a87-4e6c-a3d4-8a5716b60d3f",
   "metadata": {},
   "outputs": [
    {
     "ename": "FileNotFoundError",
     "evalue": "[Errno 2] No such file or directory: 'test-project/credentials.yml'",
     "output_type": "error",
     "traceback": [
      "\u001b[0;31m---------------------------------------------------------------------------\u001b[0m",
      "\u001b[0;31mFileNotFoundError\u001b[0m                         Traceback (most recent call last)",
      "Cell \u001b[0;32mIn [40], line 40\u001b[0m\n\u001b[1;32m      1\u001b[0m credentials_yml\u001b[38;5;241m=\u001b[39m\u001b[38;5;124m\"\"\"\u001b[39m\n\u001b[1;32m      2\u001b[0m \u001b[38;5;124m# This file contains the credentials for the voice & chat platforms\u001b[39m\n\u001b[1;32m      3\u001b[0m \u001b[38;5;124m# which your bot is using.\u001b[39m\n\u001b[0;32m   (...)\u001b[0m\n\u001b[1;32m     38\u001b[0m \n\u001b[1;32m     39\u001b[0m \u001b[38;5;124m\"\"\"\u001b[39m\n\u001b[0;32m---> 40\u001b[0m \u001b[43mget_ipython\u001b[49m\u001b[43m(\u001b[49m\u001b[43m)\u001b[49m\u001b[38;5;241;43m.\u001b[39;49m\u001b[43mrun_line_magic\u001b[49m\u001b[43m(\u001b[49m\u001b[38;5;124;43m'\u001b[39;49m\u001b[38;5;124;43mstore\u001b[39;49m\u001b[38;5;124;43m'\u001b[39;49m\u001b[43m,\u001b[49m\u001b[43m \u001b[49m\u001b[38;5;124;43m'\u001b[39;49m\u001b[38;5;124;43mcredentials_yml >test-project/credentials.yml\u001b[39;49m\u001b[38;5;124;43m'\u001b[39;49m\u001b[43m)\u001b[49m\n",
      "File \u001b[0;32m~/anaconda3/envs/rasa_bot/lib/python3.8/site-packages/IPython/core/interactiveshell.py:2364\u001b[0m, in \u001b[0;36mInteractiveShell.run_line_magic\u001b[0;34m(self, magic_name, line, _stack_depth)\u001b[0m\n\u001b[1;32m   2362\u001b[0m     kwargs[\u001b[38;5;124m'\u001b[39m\u001b[38;5;124mlocal_ns\u001b[39m\u001b[38;5;124m'\u001b[39m] \u001b[38;5;241m=\u001b[39m \u001b[38;5;28mself\u001b[39m\u001b[38;5;241m.\u001b[39mget_local_scope(stack_depth)\n\u001b[1;32m   2363\u001b[0m \u001b[38;5;28;01mwith\u001b[39;00m \u001b[38;5;28mself\u001b[39m\u001b[38;5;241m.\u001b[39mbuiltin_trap:\n\u001b[0;32m-> 2364\u001b[0m     result \u001b[38;5;241m=\u001b[39m \u001b[43mfn\u001b[49m\u001b[43m(\u001b[49m\u001b[38;5;241;43m*\u001b[39;49m\u001b[43margs\u001b[49m\u001b[43m,\u001b[49m\u001b[43m \u001b[49m\u001b[38;5;241;43m*\u001b[39;49m\u001b[38;5;241;43m*\u001b[39;49m\u001b[43mkwargs\u001b[49m\u001b[43m)\u001b[49m\n\u001b[1;32m   2365\u001b[0m \u001b[38;5;28;01mreturn\u001b[39;00m result\n",
      "File \u001b[0;32m~/anaconda3/envs/rasa_bot/lib/python3.8/site-packages/IPython/extensions/storemagic.py:184\u001b[0m, in \u001b[0;36mStoreMagics.store\u001b[0;34m(self, parameter_s)\u001b[0m\n\u001b[1;32m    182\u001b[0m     fil \u001b[38;5;241m=\u001b[39m \u001b[38;5;28mopen\u001b[39m(fnam, \u001b[38;5;124m\"\u001b[39m\u001b[38;5;124ma\u001b[39m\u001b[38;5;124m\"\u001b[39m, encoding\u001b[38;5;241m=\u001b[39m\u001b[38;5;124m\"\u001b[39m\u001b[38;5;124mutf-8\u001b[39m\u001b[38;5;124m\"\u001b[39m)\n\u001b[1;32m    183\u001b[0m \u001b[38;5;28;01melse\u001b[39;00m:\n\u001b[0;32m--> 184\u001b[0m     fil \u001b[38;5;241m=\u001b[39m \u001b[38;5;28;43mopen\u001b[39;49m\u001b[43m(\u001b[49m\u001b[43mfnam\u001b[49m\u001b[43m,\u001b[49m\u001b[43m \u001b[49m\u001b[38;5;124;43m\"\u001b[39;49m\u001b[38;5;124;43mw\u001b[39;49m\u001b[38;5;124;43m\"\u001b[39;49m\u001b[43m,\u001b[49m\u001b[43m \u001b[49m\u001b[43mencoding\u001b[49m\u001b[38;5;241;43m=\u001b[39;49m\u001b[38;5;124;43m\"\u001b[39;49m\u001b[38;5;124;43mutf-8\u001b[39;49m\u001b[38;5;124;43m\"\u001b[39;49m\u001b[43m)\u001b[49m\n\u001b[1;32m    185\u001b[0m \u001b[38;5;28;01mwith\u001b[39;00m fil:\n\u001b[1;32m    186\u001b[0m     obj \u001b[38;5;241m=\u001b[39m ip\u001b[38;5;241m.\u001b[39mev(args[\u001b[38;5;241m0\u001b[39m])\n",
      "\u001b[0;31mFileNotFoundError\u001b[0m: [Errno 2] No such file or directory: 'test-project/credentials.yml'"
     ]
    }
   ],
   "source": [
    "credentials_yml=\"\"\"\n",
    "# This file contains the credentials for the voice & chat platforms\n",
    "# which your bot is using.\n",
    "# https://rasa.com/docs/rasa/user-guide/messaging-and-voice-channels/\n",
    "\n",
    "rest:\n",
    "#  # you don't need to provide anything here - this channel doesn't\n",
    "#  # require any credentials\n",
    "\n",
    "telegram:\n",
    "  access_token: \"5786171550:AAF-Jqu9cv_CBWWD_HcVOotVX29d_RM4nh0\"\n",
    "  verify: \"Task005_bot\"\n",
    "  webhook_url: \"https://db22-5-121-28-126.ngrok.io/webhooks/telegram/webhook\"\n",
    "\n",
    "#facebook:\n",
    "#  verify: \"<verify>\"\n",
    "#  secret: \"<your secret>\"\n",
    "#  page-access-token: \"<your page access token>\"\n",
    "\n",
    "#slack:\n",
    "#  slack_token: \"<your slack token>\"\n",
    "#  slack_channel: \"<the slack channel>\"\n",
    "\n",
    "#socketio:\n",
    "#  user_message_evt: <event name for user message>\n",
    "#  bot_message_evt: <event name for but messages>\n",
    "#  session_persistence: <true/false>\n",
    "\n",
    "#mattermost:\n",
    "#  url: \"https://<mattermost instance>/api/v4\"\n",
    "#  token: \"<bot token>\"\n",
    "#  webhook_url: \"<callback URL>\"\n",
    "\n",
    "# This entry is needed if you are using Rasa X. The entry represents credentials \n",
    "# for the Rasa X \"channel\", i.e. Talk to your bot and Share with guest testers.\n",
    "rasa:\n",
    "  url: \"http://localhost:5002/api\"\n",
    "\n",
    "\"\"\"\n",
    "%store credentials_yml >test-project/credentials.yml"
   ]
  },
  {
   "cell_type": "code",
   "execution_count": 46,
   "id": "ad7c116c-99b2-48d1-89b2-0f19c9b24f64",
   "metadata": {},
   "outputs": [],
   "source": [
    "# if this part doesn't work true you can copy this part and replace it in \"test-project/credentials.yml\""
   ]
  },
  {
   "cell_type": "code",
   "execution_count": 42,
   "id": "72cd3ef3-8bcc-4cdf-a4a7-4a0e3cfa5bf1",
   "metadata": {},
   "outputs": [
    {
     "name": "stdout",
     "output_type": "stream",
     "text": [
      "/home/hadi/anaconda3/envs/rasa_bot/lib/python3.8/site-packages/sanic_cors/extension.py:39: DeprecationWarning: distutils Version classes are deprecated. Use packaging.version instead.\n",
      "  SANIC_VERSION = LooseVersion(sanic_version)\n",
      "2022-11-17 13:49:00 \u001b[1;30mINFO    \u001b[0m \u001b[34mroot\u001b[0m  - Starting Rasa server on http://0.0.0.0:5005\n",
      "2022-11-17 13:49:03 \u001b[1;30mINFO    \u001b[0m \u001b[34mrasa.core.processor\u001b[0m  - Loading model models/20221117-132826-happy-sleeper.tar.gz...\n",
      "2022-11-17 13:49:27 \u001b[1;30mWARNING \u001b[0m \u001b[34mrasa.shared.utils.common\u001b[0m  - \u001b[33mThe UnexpecTED Intent Policy is currently experimental and might change or be removed in the future 🔬 Please share your feedback on it in the forum (https://forum.rasa.com) to help us make this feature ready for production.\u001b[0m\n",
      "2022-11-17 13:49:38 \u001b[1;30mINFO    \u001b[0m \u001b[34mroot\u001b[0m  - Rasa server is up and running.\n",
      "^C\n"
     ]
    }
   ],
   "source": [
    "!rasa run"
   ]
  },
  {
   "cell_type": "code",
   "execution_count": null,
   "id": "8039e97b-50e7-48f6-9fb5-8e372b1bc8fb",
   "metadata": {},
   "outputs": [],
   "source": []
  }
 ],
 "metadata": {
  "kernelspec": {
   "display_name": "Python 3 (ipykernel)",
   "language": "python",
   "name": "python3"
  },
  "language_info": {
   "codemirror_mode": {
    "name": "ipython",
    "version": 3
   },
   "file_extension": ".py",
   "mimetype": "text/x-python",
   "name": "python",
   "nbconvert_exporter": "python",
   "pygments_lexer": "ipython3",
   "version": "3.8.13"
  }
 },
 "nbformat": 4,
 "nbformat_minor": 5
}
